{
 "cells": [
  {
   "cell_type": "markdown",
   "metadata": {},
   "source": [
    "## จริงหรือไม่ที่ร้านอาหารราคา ต่ำ ปานกลาง และแพง จะมี creditcard ในการจ่ายเงิน  และร้านอาหารราคา ต่ำ ปานกลางหรือแพงที่ไม่มี creditcard ในการชำระเงิน จะส่งผมกระทบต่อคะแนนการให้บริการหรือไม่ อย่างไร \n"
   ]
  },
  {
   "cell_type": "code",
   "execution_count": 1,
   "metadata": {},
   "outputs": [],
   "source": [
    "import pandas as pd\n",
    "import numpy as np"
   ]
  },
  {
   "cell_type": "code",
   "execution_count": 2,
   "metadata": {},
   "outputs": [],
   "source": [
    "chefaccept = pd.read_csv(\"restaurant-data/chefmozaccepts.csv\")\n",
    "chefcuisine = pd.read_csv(\"restaurant-data/chefmozcuisine.csv\")\n",
    "chefhour = pd.read_csv(\"restaurant-data/chefmozhours4.csv\")\n",
    "chefparking = pd.read_csv(\"restaurant-data/chefmozparking.csv\")\n",
    "geoplace = pd.read_csv(\"restaurant-data/geoplaces2.csv\")\n",
    "rating = pd.read_csv(\"restaurant-data/rating_final.csv\")\n",
    "\n",
    "usercuisine = pd.read_csv(\"restaurant-data/usercuisine.csv\")\n",
    "userpayment = pd.read_csv(\"restaurant-data/userpayment.csv\")\n",
    "userprofile = pd.read_csv(\"restaurant-data/userprofile.csv\")"
   ]
  },
  {
   "cell_type": "code",
   "execution_count": 3,
   "metadata": {},
   "outputs": [],
   "source": [
    "place = pd.merge(rating,geoplace,on=\"placeID\")"
   ]
  },
  {
   "cell_type": "code",
   "execution_count": 4,
   "metadata": {},
   "outputs": [
    {
     "data": {
      "text/html": [
       "<div>\n",
       "<style scoped>\n",
       "    .dataframe tbody tr th:only-of-type {\n",
       "        vertical-align: middle;\n",
       "    }\n",
       "\n",
       "    .dataframe tbody tr th {\n",
       "        vertical-align: top;\n",
       "    }\n",
       "\n",
       "    .dataframe thead th {\n",
       "        text-align: right;\n",
       "    }\n",
       "</style>\n",
       "<table border=\"1\" class=\"dataframe\">\n",
       "  <thead>\n",
       "    <tr style=\"text-align: right;\">\n",
       "      <th></th>\n",
       "      <th>userID</th>\n",
       "      <th>placeID</th>\n",
       "      <th>rating</th>\n",
       "      <th>food_rating</th>\n",
       "      <th>service_rating</th>\n",
       "      <th>latitude</th>\n",
       "      <th>longitude</th>\n",
       "      <th>the_geom_meter</th>\n",
       "      <th>name</th>\n",
       "      <th>address</th>\n",
       "      <th>...</th>\n",
       "      <th>alcohol</th>\n",
       "      <th>smoking_area</th>\n",
       "      <th>dress_code</th>\n",
       "      <th>accessibility</th>\n",
       "      <th>price</th>\n",
       "      <th>url</th>\n",
       "      <th>Rambience</th>\n",
       "      <th>franchise</th>\n",
       "      <th>area</th>\n",
       "      <th>other_services</th>\n",
       "    </tr>\n",
       "  </thead>\n",
       "  <tbody>\n",
       "    <tr>\n",
       "      <th>0</th>\n",
       "      <td>U1077</td>\n",
       "      <td>135085</td>\n",
       "      <td>2</td>\n",
       "      <td>2</td>\n",
       "      <td>2</td>\n",
       "      <td>22.150802</td>\n",
       "      <td>-100.982680</td>\n",
       "      <td>0101000020957F00009F823DA6094858C18A2D4D37F9A4...</td>\n",
       "      <td>Tortas Locas Hipocampo</td>\n",
       "      <td>Venustiano Carranza 719 Centro</td>\n",
       "      <td>...</td>\n",
       "      <td>No_Alcohol_Served</td>\n",
       "      <td>not permitted</td>\n",
       "      <td>informal</td>\n",
       "      <td>no_accessibility</td>\n",
       "      <td>medium</td>\n",
       "      <td>?</td>\n",
       "      <td>familiar</td>\n",
       "      <td>f</td>\n",
       "      <td>closed</td>\n",
       "      <td>none</td>\n",
       "    </tr>\n",
       "    <tr>\n",
       "      <th>1</th>\n",
       "      <td>U1108</td>\n",
       "      <td>135085</td>\n",
       "      <td>1</td>\n",
       "      <td>2</td>\n",
       "      <td>1</td>\n",
       "      <td>22.150802</td>\n",
       "      <td>-100.982680</td>\n",
       "      <td>0101000020957F00009F823DA6094858C18A2D4D37F9A4...</td>\n",
       "      <td>Tortas Locas Hipocampo</td>\n",
       "      <td>Venustiano Carranza 719 Centro</td>\n",
       "      <td>...</td>\n",
       "      <td>No_Alcohol_Served</td>\n",
       "      <td>not permitted</td>\n",
       "      <td>informal</td>\n",
       "      <td>no_accessibility</td>\n",
       "      <td>medium</td>\n",
       "      <td>?</td>\n",
       "      <td>familiar</td>\n",
       "      <td>f</td>\n",
       "      <td>closed</td>\n",
       "      <td>none</td>\n",
       "    </tr>\n",
       "    <tr>\n",
       "      <th>2</th>\n",
       "      <td>U1081</td>\n",
       "      <td>135085</td>\n",
       "      <td>1</td>\n",
       "      <td>2</td>\n",
       "      <td>1</td>\n",
       "      <td>22.150802</td>\n",
       "      <td>-100.982680</td>\n",
       "      <td>0101000020957F00009F823DA6094858C18A2D4D37F9A4...</td>\n",
       "      <td>Tortas Locas Hipocampo</td>\n",
       "      <td>Venustiano Carranza 719 Centro</td>\n",
       "      <td>...</td>\n",
       "      <td>No_Alcohol_Served</td>\n",
       "      <td>not permitted</td>\n",
       "      <td>informal</td>\n",
       "      <td>no_accessibility</td>\n",
       "      <td>medium</td>\n",
       "      <td>?</td>\n",
       "      <td>familiar</td>\n",
       "      <td>f</td>\n",
       "      <td>closed</td>\n",
       "      <td>none</td>\n",
       "    </tr>\n",
       "    <tr>\n",
       "      <th>3</th>\n",
       "      <td>U1056</td>\n",
       "      <td>135085</td>\n",
       "      <td>2</td>\n",
       "      <td>2</td>\n",
       "      <td>2</td>\n",
       "      <td>22.150802</td>\n",
       "      <td>-100.982680</td>\n",
       "      <td>0101000020957F00009F823DA6094858C18A2D4D37F9A4...</td>\n",
       "      <td>Tortas Locas Hipocampo</td>\n",
       "      <td>Venustiano Carranza 719 Centro</td>\n",
       "      <td>...</td>\n",
       "      <td>No_Alcohol_Served</td>\n",
       "      <td>not permitted</td>\n",
       "      <td>informal</td>\n",
       "      <td>no_accessibility</td>\n",
       "      <td>medium</td>\n",
       "      <td>?</td>\n",
       "      <td>familiar</td>\n",
       "      <td>f</td>\n",
       "      <td>closed</td>\n",
       "      <td>none</td>\n",
       "    </tr>\n",
       "    <tr>\n",
       "      <th>4</th>\n",
       "      <td>U1134</td>\n",
       "      <td>135085</td>\n",
       "      <td>2</td>\n",
       "      <td>1</td>\n",
       "      <td>2</td>\n",
       "      <td>22.150802</td>\n",
       "      <td>-100.982680</td>\n",
       "      <td>0101000020957F00009F823DA6094858C18A2D4D37F9A4...</td>\n",
       "      <td>Tortas Locas Hipocampo</td>\n",
       "      <td>Venustiano Carranza 719 Centro</td>\n",
       "      <td>...</td>\n",
       "      <td>No_Alcohol_Served</td>\n",
       "      <td>not permitted</td>\n",
       "      <td>informal</td>\n",
       "      <td>no_accessibility</td>\n",
       "      <td>medium</td>\n",
       "      <td>?</td>\n",
       "      <td>familiar</td>\n",
       "      <td>f</td>\n",
       "      <td>closed</td>\n",
       "      <td>none</td>\n",
       "    </tr>\n",
       "    <tr>\n",
       "      <th>...</th>\n",
       "      <td>...</td>\n",
       "      <td>...</td>\n",
       "      <td>...</td>\n",
       "      <td>...</td>\n",
       "      <td>...</td>\n",
       "      <td>...</td>\n",
       "      <td>...</td>\n",
       "      <td>...</td>\n",
       "      <td>...</td>\n",
       "      <td>...</td>\n",
       "      <td>...</td>\n",
       "      <td>...</td>\n",
       "      <td>...</td>\n",
       "      <td>...</td>\n",
       "      <td>...</td>\n",
       "      <td>...</td>\n",
       "      <td>...</td>\n",
       "      <td>...</td>\n",
       "      <td>...</td>\n",
       "      <td>...</td>\n",
       "      <td>...</td>\n",
       "    </tr>\n",
       "    <tr>\n",
       "      <th>1156</th>\n",
       "      <td>U1061</td>\n",
       "      <td>132958</td>\n",
       "      <td>2</td>\n",
       "      <td>2</td>\n",
       "      <td>2</td>\n",
       "      <td>22.144979</td>\n",
       "      <td>-101.005683</td>\n",
       "      <td>0101000020957F000049095EB34A4858C15CB4BD1EE1AB...</td>\n",
       "      <td>tacos los volcanes</td>\n",
       "      <td>avenida hivno nacional</td>\n",
       "      <td>...</td>\n",
       "      <td>No_Alcohol_Served</td>\n",
       "      <td>none</td>\n",
       "      <td>informal</td>\n",
       "      <td>completely</td>\n",
       "      <td>low</td>\n",
       "      <td>?</td>\n",
       "      <td>quiet</td>\n",
       "      <td>t</td>\n",
       "      <td>closed</td>\n",
       "      <td>none</td>\n",
       "    </tr>\n",
       "    <tr>\n",
       "      <th>1157</th>\n",
       "      <td>U1025</td>\n",
       "      <td>132958</td>\n",
       "      <td>1</td>\n",
       "      <td>0</td>\n",
       "      <td>0</td>\n",
       "      <td>22.144979</td>\n",
       "      <td>-101.005683</td>\n",
       "      <td>0101000020957F000049095EB34A4858C15CB4BD1EE1AB...</td>\n",
       "      <td>tacos los volcanes</td>\n",
       "      <td>avenida hivno nacional</td>\n",
       "      <td>...</td>\n",
       "      <td>No_Alcohol_Served</td>\n",
       "      <td>none</td>\n",
       "      <td>informal</td>\n",
       "      <td>completely</td>\n",
       "      <td>low</td>\n",
       "      <td>?</td>\n",
       "      <td>quiet</td>\n",
       "      <td>t</td>\n",
       "      <td>closed</td>\n",
       "      <td>none</td>\n",
       "    </tr>\n",
       "    <tr>\n",
       "      <th>1158</th>\n",
       "      <td>U1097</td>\n",
       "      <td>132958</td>\n",
       "      <td>2</td>\n",
       "      <td>1</td>\n",
       "      <td>1</td>\n",
       "      <td>22.144979</td>\n",
       "      <td>-101.005683</td>\n",
       "      <td>0101000020957F000049095EB34A4858C15CB4BD1EE1AB...</td>\n",
       "      <td>tacos los volcanes</td>\n",
       "      <td>avenida hivno nacional</td>\n",
       "      <td>...</td>\n",
       "      <td>No_Alcohol_Served</td>\n",
       "      <td>none</td>\n",
       "      <td>informal</td>\n",
       "      <td>completely</td>\n",
       "      <td>low</td>\n",
       "      <td>?</td>\n",
       "      <td>quiet</td>\n",
       "      <td>t</td>\n",
       "      <td>closed</td>\n",
       "      <td>none</td>\n",
       "    </tr>\n",
       "    <tr>\n",
       "      <th>1159</th>\n",
       "      <td>U1096</td>\n",
       "      <td>132958</td>\n",
       "      <td>1</td>\n",
       "      <td>2</td>\n",
       "      <td>2</td>\n",
       "      <td>22.144979</td>\n",
       "      <td>-101.005683</td>\n",
       "      <td>0101000020957F000049095EB34A4858C15CB4BD1EE1AB...</td>\n",
       "      <td>tacos los volcanes</td>\n",
       "      <td>avenida hivno nacional</td>\n",
       "      <td>...</td>\n",
       "      <td>No_Alcohol_Served</td>\n",
       "      <td>none</td>\n",
       "      <td>informal</td>\n",
       "      <td>completely</td>\n",
       "      <td>low</td>\n",
       "      <td>?</td>\n",
       "      <td>quiet</td>\n",
       "      <td>t</td>\n",
       "      <td>closed</td>\n",
       "      <td>none</td>\n",
       "    </tr>\n",
       "    <tr>\n",
       "      <th>1160</th>\n",
       "      <td>U1136</td>\n",
       "      <td>132958</td>\n",
       "      <td>2</td>\n",
       "      <td>2</td>\n",
       "      <td>2</td>\n",
       "      <td>22.144979</td>\n",
       "      <td>-101.005683</td>\n",
       "      <td>0101000020957F000049095EB34A4858C15CB4BD1EE1AB...</td>\n",
       "      <td>tacos los volcanes</td>\n",
       "      <td>avenida hivno nacional</td>\n",
       "      <td>...</td>\n",
       "      <td>No_Alcohol_Served</td>\n",
       "      <td>none</td>\n",
       "      <td>informal</td>\n",
       "      <td>completely</td>\n",
       "      <td>low</td>\n",
       "      <td>?</td>\n",
       "      <td>quiet</td>\n",
       "      <td>t</td>\n",
       "      <td>closed</td>\n",
       "      <td>none</td>\n",
       "    </tr>\n",
       "  </tbody>\n",
       "</table>\n",
       "<p>1161 rows × 25 columns</p>\n",
       "</div>"
      ],
      "text/plain": [
       "     userID  placeID  rating  food_rating  service_rating   latitude  \\\n",
       "0     U1077   135085       2            2               2  22.150802   \n",
       "1     U1108   135085       1            2               1  22.150802   \n",
       "2     U1081   135085       1            2               1  22.150802   \n",
       "3     U1056   135085       2            2               2  22.150802   \n",
       "4     U1134   135085       2            1               2  22.150802   \n",
       "...     ...      ...     ...          ...             ...        ...   \n",
       "1156  U1061   132958       2            2               2  22.144979   \n",
       "1157  U1025   132958       1            0               0  22.144979   \n",
       "1158  U1097   132958       2            1               1  22.144979   \n",
       "1159  U1096   132958       1            2               2  22.144979   \n",
       "1160  U1136   132958       2            2               2  22.144979   \n",
       "\n",
       "       longitude                                     the_geom_meter  \\\n",
       "0    -100.982680  0101000020957F00009F823DA6094858C18A2D4D37F9A4...   \n",
       "1    -100.982680  0101000020957F00009F823DA6094858C18A2D4D37F9A4...   \n",
       "2    -100.982680  0101000020957F00009F823DA6094858C18A2D4D37F9A4...   \n",
       "3    -100.982680  0101000020957F00009F823DA6094858C18A2D4D37F9A4...   \n",
       "4    -100.982680  0101000020957F00009F823DA6094858C18A2D4D37F9A4...   \n",
       "...          ...                                                ...   \n",
       "1156 -101.005683  0101000020957F000049095EB34A4858C15CB4BD1EE1AB...   \n",
       "1157 -101.005683  0101000020957F000049095EB34A4858C15CB4BD1EE1AB...   \n",
       "1158 -101.005683  0101000020957F000049095EB34A4858C15CB4BD1EE1AB...   \n",
       "1159 -101.005683  0101000020957F000049095EB34A4858C15CB4BD1EE1AB...   \n",
       "1160 -101.005683  0101000020957F000049095EB34A4858C15CB4BD1EE1AB...   \n",
       "\n",
       "                        name                         address  ...  \\\n",
       "0     Tortas Locas Hipocampo  Venustiano Carranza 719 Centro  ...   \n",
       "1     Tortas Locas Hipocampo  Venustiano Carranza 719 Centro  ...   \n",
       "2     Tortas Locas Hipocampo  Venustiano Carranza 719 Centro  ...   \n",
       "3     Tortas Locas Hipocampo  Venustiano Carranza 719 Centro  ...   \n",
       "4     Tortas Locas Hipocampo  Venustiano Carranza 719 Centro  ...   \n",
       "...                      ...                             ...  ...   \n",
       "1156      tacos los volcanes          avenida hivno nacional  ...   \n",
       "1157      tacos los volcanes          avenida hivno nacional  ...   \n",
       "1158      tacos los volcanes          avenida hivno nacional  ...   \n",
       "1159      tacos los volcanes          avenida hivno nacional  ...   \n",
       "1160      tacos los volcanes          avenida hivno nacional  ...   \n",
       "\n",
       "                alcohol   smoking_area dress_code     accessibility   price  \\\n",
       "0     No_Alcohol_Served  not permitted   informal  no_accessibility  medium   \n",
       "1     No_Alcohol_Served  not permitted   informal  no_accessibility  medium   \n",
       "2     No_Alcohol_Served  not permitted   informal  no_accessibility  medium   \n",
       "3     No_Alcohol_Served  not permitted   informal  no_accessibility  medium   \n",
       "4     No_Alcohol_Served  not permitted   informal  no_accessibility  medium   \n",
       "...                 ...            ...        ...               ...     ...   \n",
       "1156  No_Alcohol_Served           none   informal        completely     low   \n",
       "1157  No_Alcohol_Served           none   informal        completely     low   \n",
       "1158  No_Alcohol_Served           none   informal        completely     low   \n",
       "1159  No_Alcohol_Served           none   informal        completely     low   \n",
       "1160  No_Alcohol_Served           none   informal        completely     low   \n",
       "\n",
       "     url Rambience franchise    area other_services  \n",
       "0      ?  familiar         f  closed           none  \n",
       "1      ?  familiar         f  closed           none  \n",
       "2      ?  familiar         f  closed           none  \n",
       "3      ?  familiar         f  closed           none  \n",
       "4      ?  familiar         f  closed           none  \n",
       "...   ..       ...       ...     ...            ...  \n",
       "1156   ?     quiet         t  closed           none  \n",
       "1157   ?     quiet         t  closed           none  \n",
       "1158   ?     quiet         t  closed           none  \n",
       "1159   ?     quiet         t  closed           none  \n",
       "1160   ?     quiet         t  closed           none  \n",
       "\n",
       "[1161 rows x 25 columns]"
      ]
     },
     "execution_count": 4,
     "metadata": {},
     "output_type": "execute_result"
    }
   ],
   "source": [
    "place"
   ]
  },
  {
   "cell_type": "code",
   "execution_count": 5,
   "metadata": {},
   "outputs": [
    {
     "data": {
      "text/html": [
       "<div>\n",
       "<style scoped>\n",
       "    .dataframe tbody tr th:only-of-type {\n",
       "        vertical-align: middle;\n",
       "    }\n",
       "\n",
       "    .dataframe tbody tr th {\n",
       "        vertical-align: top;\n",
       "    }\n",
       "\n",
       "    .dataframe thead th {\n",
       "        text-align: right;\n",
       "    }\n",
       "</style>\n",
       "<table border=\"1\" class=\"dataframe\">\n",
       "  <thead>\n",
       "    <tr style=\"text-align: right;\">\n",
       "      <th></th>\n",
       "      <th>Rpayment</th>\n",
       "    </tr>\n",
       "    <tr>\n",
       "      <th>placeID</th>\n",
       "      <th></th>\n",
       "    </tr>\n",
       "  </thead>\n",
       "  <tbody>\n",
       "    <tr>\n",
       "      <th>132002</th>\n",
       "      <td>4</td>\n",
       "    </tr>\n",
       "    <tr>\n",
       "      <th>132012</th>\n",
       "      <td>4</td>\n",
       "    </tr>\n",
       "    <tr>\n",
       "      <th>132019</th>\n",
       "      <td>4</td>\n",
       "    </tr>\n",
       "    <tr>\n",
       "      <th>132023</th>\n",
       "      <td>4</td>\n",
       "    </tr>\n",
       "    <tr>\n",
       "      <th>132024</th>\n",
       "      <td>4</td>\n",
       "    </tr>\n",
       "    <tr>\n",
       "      <th>...</th>\n",
       "      <td>...</td>\n",
       "    </tr>\n",
       "    <tr>\n",
       "      <th>135103</th>\n",
       "      <td>3</td>\n",
       "    </tr>\n",
       "    <tr>\n",
       "      <th>135104</th>\n",
       "      <td>3</td>\n",
       "    </tr>\n",
       "    <tr>\n",
       "      <th>135106</th>\n",
       "      <td>3</td>\n",
       "    </tr>\n",
       "    <tr>\n",
       "      <th>135107</th>\n",
       "      <td>5</td>\n",
       "    </tr>\n",
       "    <tr>\n",
       "      <th>135110</th>\n",
       "      <td>5</td>\n",
       "    </tr>\n",
       "  </tbody>\n",
       "</table>\n",
       "<p>275 rows × 1 columns</p>\n",
       "</div>"
      ],
      "text/plain": [
       "         Rpayment\n",
       "placeID          \n",
       "132002          4\n",
       "132012          4\n",
       "132019          4\n",
       "132023          4\n",
       "132024          4\n",
       "...           ...\n",
       "135103          3\n",
       "135104          3\n",
       "135106          3\n",
       "135107          5\n",
       "135110          5\n",
       "\n",
       "[275 rows x 1 columns]"
      ]
     },
     "execution_count": 5,
     "metadata": {},
     "output_type": "execute_result"
    }
   ],
   "source": [
    "nonCash = chefaccept.groupby(\"placeID\").count()\n",
    "nonCash = nonCash.loc[nonCash.Rpayment > 1]\n",
    "nonCash"
   ]
  },
  {
   "cell_type": "code",
   "execution_count": 6,
   "metadata": {},
   "outputs": [
    {
     "data": {
      "text/html": [
       "<div>\n",
       "<style scoped>\n",
       "    .dataframe tbody tr th:only-of-type {\n",
       "        vertical-align: middle;\n",
       "    }\n",
       "\n",
       "    .dataframe tbody tr th {\n",
       "        vertical-align: top;\n",
       "    }\n",
       "\n",
       "    .dataframe thead th {\n",
       "        text-align: right;\n",
       "    }\n",
       "</style>\n",
       "<table border=\"1\" class=\"dataframe\">\n",
       "  <thead>\n",
       "    <tr style=\"text-align: right;\">\n",
       "      <th></th>\n",
       "      <th>placeID</th>\n",
       "      <th>latitude</th>\n",
       "      <th>longitude</th>\n",
       "      <th>the_geom_meter</th>\n",
       "      <th>name</th>\n",
       "      <th>address</th>\n",
       "      <th>city</th>\n",
       "      <th>state</th>\n",
       "      <th>country</th>\n",
       "      <th>fax</th>\n",
       "      <th>...</th>\n",
       "      <th>smoking_area</th>\n",
       "      <th>dress_code</th>\n",
       "      <th>accessibility</th>\n",
       "      <th>price</th>\n",
       "      <th>url</th>\n",
       "      <th>Rambience</th>\n",
       "      <th>franchise</th>\n",
       "      <th>area</th>\n",
       "      <th>other_services</th>\n",
       "      <th>Rpayment</th>\n",
       "    </tr>\n",
       "  </thead>\n",
       "  <tbody>\n",
       "    <tr>\n",
       "      <th>0</th>\n",
       "      <td>132825</td>\n",
       "      <td>22.147392</td>\n",
       "      <td>-100.983092</td>\n",
       "      <td>0101000020957F00001AD016568C4858C1243261274BA5...</td>\n",
       "      <td>puesto de tacos</td>\n",
       "      <td>esquina santos degollado y leon guzman</td>\n",
       "      <td>s.l.p.</td>\n",
       "      <td>s.l.p.</td>\n",
       "      <td>mexico</td>\n",
       "      <td>?</td>\n",
       "      <td>...</td>\n",
       "      <td>none</td>\n",
       "      <td>informal</td>\n",
       "      <td>completely</td>\n",
       "      <td>low</td>\n",
       "      <td>?</td>\n",
       "      <td>familiar</td>\n",
       "      <td>f</td>\n",
       "      <td>open</td>\n",
       "      <td>none</td>\n",
       "      <td>cash</td>\n",
       "    </tr>\n",
       "    <tr>\n",
       "      <th>1</th>\n",
       "      <td>135106</td>\n",
       "      <td>22.149709</td>\n",
       "      <td>-100.976093</td>\n",
       "      <td>0101000020957F0000649D6F21634858C119AE9BF528A3...</td>\n",
       "      <td>El Rinc�n de San Francisco</td>\n",
       "      <td>Universidad 169</td>\n",
       "      <td>San Luis Potosi</td>\n",
       "      <td>San Luis Potosi</td>\n",
       "      <td>Mexico</td>\n",
       "      <td>?</td>\n",
       "      <td>...</td>\n",
       "      <td>only at bar</td>\n",
       "      <td>informal</td>\n",
       "      <td>partially</td>\n",
       "      <td>medium</td>\n",
       "      <td>?</td>\n",
       "      <td>familiar</td>\n",
       "      <td>f</td>\n",
       "      <td>open</td>\n",
       "      <td>none</td>\n",
       "      <td>cash</td>\n",
       "    </tr>\n",
       "    <tr>\n",
       "      <th>2</th>\n",
       "      <td>135106</td>\n",
       "      <td>22.149709</td>\n",
       "      <td>-100.976093</td>\n",
       "      <td>0101000020957F0000649D6F21634858C119AE9BF528A3...</td>\n",
       "      <td>El Rinc�n de San Francisco</td>\n",
       "      <td>Universidad 169</td>\n",
       "      <td>San Luis Potosi</td>\n",
       "      <td>San Luis Potosi</td>\n",
       "      <td>Mexico</td>\n",
       "      <td>?</td>\n",
       "      <td>...</td>\n",
       "      <td>only at bar</td>\n",
       "      <td>informal</td>\n",
       "      <td>partially</td>\n",
       "      <td>medium</td>\n",
       "      <td>?</td>\n",
       "      <td>familiar</td>\n",
       "      <td>f</td>\n",
       "      <td>open</td>\n",
       "      <td>none</td>\n",
       "      <td>VISA</td>\n",
       "    </tr>\n",
       "    <tr>\n",
       "      <th>3</th>\n",
       "      <td>135106</td>\n",
       "      <td>22.149709</td>\n",
       "      <td>-100.976093</td>\n",
       "      <td>0101000020957F0000649D6F21634858C119AE9BF528A3...</td>\n",
       "      <td>El Rinc�n de San Francisco</td>\n",
       "      <td>Universidad 169</td>\n",
       "      <td>San Luis Potosi</td>\n",
       "      <td>San Luis Potosi</td>\n",
       "      <td>Mexico</td>\n",
       "      <td>?</td>\n",
       "      <td>...</td>\n",
       "      <td>only at bar</td>\n",
       "      <td>informal</td>\n",
       "      <td>partially</td>\n",
       "      <td>medium</td>\n",
       "      <td>?</td>\n",
       "      <td>familiar</td>\n",
       "      <td>f</td>\n",
       "      <td>open</td>\n",
       "      <td>none</td>\n",
       "      <td>MasterCard-Eurocard</td>\n",
       "    </tr>\n",
       "    <tr>\n",
       "      <th>4</th>\n",
       "      <td>132667</td>\n",
       "      <td>23.752697</td>\n",
       "      <td>-99.163359</td>\n",
       "      <td>0101000020957F00005D67BCDDED8157C1222A2DC8D84D...</td>\n",
       "      <td>little pizza Emilio Portes Gil</td>\n",
       "      <td>calle emilio portes gil</td>\n",
       "      <td>victoria</td>\n",
       "      <td>tamaulipas</td>\n",
       "      <td>?</td>\n",
       "      <td>?</td>\n",
       "      <td>...</td>\n",
       "      <td>none</td>\n",
       "      <td>informal</td>\n",
       "      <td>completely</td>\n",
       "      <td>low</td>\n",
       "      <td>?</td>\n",
       "      <td>familiar</td>\n",
       "      <td>t</td>\n",
       "      <td>closed</td>\n",
       "      <td>none</td>\n",
       "      <td>cash</td>\n",
       "    </tr>\n",
       "    <tr>\n",
       "      <th>...</th>\n",
       "      <td>...</td>\n",
       "      <td>...</td>\n",
       "      <td>...</td>\n",
       "      <td>...</td>\n",
       "      <td>...</td>\n",
       "      <td>...</td>\n",
       "      <td>...</td>\n",
       "      <td>...</td>\n",
       "      <td>...</td>\n",
       "      <td>...</td>\n",
       "      <td>...</td>\n",
       "      <td>...</td>\n",
       "      <td>...</td>\n",
       "      <td>...</td>\n",
       "      <td>...</td>\n",
       "      <td>...</td>\n",
       "      <td>...</td>\n",
       "      <td>...</td>\n",
       "      <td>...</td>\n",
       "      <td>...</td>\n",
       "      <td>...</td>\n",
       "    </tr>\n",
       "    <tr>\n",
       "      <th>248</th>\n",
       "      <td>135072</td>\n",
       "      <td>22.149192</td>\n",
       "      <td>-101.002936</td>\n",
       "      <td>0101000020957F0000E7B79B1DB94758C1D29BC363D8AA...</td>\n",
       "      <td>Sushi Itto</td>\n",
       "      <td>Venustiano Carranza 1809 C Polanco</td>\n",
       "      <td>San Luis Potosi</td>\n",
       "      <td>SLP</td>\n",
       "      <td>Mexico</td>\n",
       "      <td>?</td>\n",
       "      <td>...</td>\n",
       "      <td>none</td>\n",
       "      <td>informal</td>\n",
       "      <td>no_accessibility</td>\n",
       "      <td>medium</td>\n",
       "      <td>sushi-itto.com.mx</td>\n",
       "      <td>familiar</td>\n",
       "      <td>f</td>\n",
       "      <td>closed</td>\n",
       "      <td>none</td>\n",
       "      <td>cash</td>\n",
       "    </tr>\n",
       "    <tr>\n",
       "      <th>249</th>\n",
       "      <td>135072</td>\n",
       "      <td>22.149192</td>\n",
       "      <td>-101.002936</td>\n",
       "      <td>0101000020957F0000E7B79B1DB94758C1D29BC363D8AA...</td>\n",
       "      <td>Sushi Itto</td>\n",
       "      <td>Venustiano Carranza 1809 C Polanco</td>\n",
       "      <td>San Luis Potosi</td>\n",
       "      <td>SLP</td>\n",
       "      <td>Mexico</td>\n",
       "      <td>?</td>\n",
       "      <td>...</td>\n",
       "      <td>none</td>\n",
       "      <td>informal</td>\n",
       "      <td>no_accessibility</td>\n",
       "      <td>medium</td>\n",
       "      <td>sushi-itto.com.mx</td>\n",
       "      <td>familiar</td>\n",
       "      <td>f</td>\n",
       "      <td>closed</td>\n",
       "      <td>none</td>\n",
       "      <td>VISA</td>\n",
       "    </tr>\n",
       "    <tr>\n",
       "      <th>250</th>\n",
       "      <td>135072</td>\n",
       "      <td>22.149192</td>\n",
       "      <td>-101.002936</td>\n",
       "      <td>0101000020957F0000E7B79B1DB94758C1D29BC363D8AA...</td>\n",
       "      <td>Sushi Itto</td>\n",
       "      <td>Venustiano Carranza 1809 C Polanco</td>\n",
       "      <td>San Luis Potosi</td>\n",
       "      <td>SLP</td>\n",
       "      <td>Mexico</td>\n",
       "      <td>?</td>\n",
       "      <td>...</td>\n",
       "      <td>none</td>\n",
       "      <td>informal</td>\n",
       "      <td>no_accessibility</td>\n",
       "      <td>medium</td>\n",
       "      <td>sushi-itto.com.mx</td>\n",
       "      <td>familiar</td>\n",
       "      <td>f</td>\n",
       "      <td>closed</td>\n",
       "      <td>none</td>\n",
       "      <td>MasterCard-Eurocard</td>\n",
       "    </tr>\n",
       "    <tr>\n",
       "      <th>251</th>\n",
       "      <td>135072</td>\n",
       "      <td>22.149192</td>\n",
       "      <td>-101.002936</td>\n",
       "      <td>0101000020957F0000E7B79B1DB94758C1D29BC363D8AA...</td>\n",
       "      <td>Sushi Itto</td>\n",
       "      <td>Venustiano Carranza 1809 C Polanco</td>\n",
       "      <td>San Luis Potosi</td>\n",
       "      <td>SLP</td>\n",
       "      <td>Mexico</td>\n",
       "      <td>?</td>\n",
       "      <td>...</td>\n",
       "      <td>none</td>\n",
       "      <td>informal</td>\n",
       "      <td>no_accessibility</td>\n",
       "      <td>medium</td>\n",
       "      <td>sushi-itto.com.mx</td>\n",
       "      <td>familiar</td>\n",
       "      <td>f</td>\n",
       "      <td>closed</td>\n",
       "      <td>none</td>\n",
       "      <td>American_Express</td>\n",
       "    </tr>\n",
       "    <tr>\n",
       "      <th>252</th>\n",
       "      <td>135109</td>\n",
       "      <td>18.921785</td>\n",
       "      <td>-99.235350</td>\n",
       "      <td>0101000020957F0000A6BF695F136F5AC1DADF87B20556...</td>\n",
       "      <td>Paniroles</td>\n",
       "      <td>?</td>\n",
       "      <td>?</td>\n",
       "      <td>?</td>\n",
       "      <td>?</td>\n",
       "      <td>?</td>\n",
       "      <td>...</td>\n",
       "      <td>not permitted</td>\n",
       "      <td>informal</td>\n",
       "      <td>no_accessibility</td>\n",
       "      <td>medium</td>\n",
       "      <td>?</td>\n",
       "      <td>quiet</td>\n",
       "      <td>f</td>\n",
       "      <td>closed</td>\n",
       "      <td>Internet</td>\n",
       "      <td>cash</td>\n",
       "    </tr>\n",
       "  </tbody>\n",
       "</table>\n",
       "<p>253 rows × 22 columns</p>\n",
       "</div>"
      ],
      "text/plain": [
       "     placeID   latitude   longitude  \\\n",
       "0     132825  22.147392 -100.983092   \n",
       "1     135106  22.149709 -100.976093   \n",
       "2     135106  22.149709 -100.976093   \n",
       "3     135106  22.149709 -100.976093   \n",
       "4     132667  23.752697  -99.163359   \n",
       "..       ...        ...         ...   \n",
       "248   135072  22.149192 -101.002936   \n",
       "249   135072  22.149192 -101.002936   \n",
       "250   135072  22.149192 -101.002936   \n",
       "251   135072  22.149192 -101.002936   \n",
       "252   135109  18.921785  -99.235350   \n",
       "\n",
       "                                        the_geom_meter  \\\n",
       "0    0101000020957F00001AD016568C4858C1243261274BA5...   \n",
       "1    0101000020957F0000649D6F21634858C119AE9BF528A3...   \n",
       "2    0101000020957F0000649D6F21634858C119AE9BF528A3...   \n",
       "3    0101000020957F0000649D6F21634858C119AE9BF528A3...   \n",
       "4    0101000020957F00005D67BCDDED8157C1222A2DC8D84D...   \n",
       "..                                                 ...   \n",
       "248  0101000020957F0000E7B79B1DB94758C1D29BC363D8AA...   \n",
       "249  0101000020957F0000E7B79B1DB94758C1D29BC363D8AA...   \n",
       "250  0101000020957F0000E7B79B1DB94758C1D29BC363D8AA...   \n",
       "251  0101000020957F0000E7B79B1DB94758C1D29BC363D8AA...   \n",
       "252  0101000020957F0000A6BF695F136F5AC1DADF87B20556...   \n",
       "\n",
       "                               name                                 address  \\\n",
       "0                   puesto de tacos  esquina santos degollado y leon guzman   \n",
       "1        El Rinc�n de San Francisco                         Universidad 169   \n",
       "2        El Rinc�n de San Francisco                         Universidad 169   \n",
       "3        El Rinc�n de San Francisco                         Universidad 169   \n",
       "4    little pizza Emilio Portes Gil                 calle emilio portes gil   \n",
       "..                              ...                                     ...   \n",
       "248                      Sushi Itto      Venustiano Carranza 1809 C Polanco   \n",
       "249                      Sushi Itto      Venustiano Carranza 1809 C Polanco   \n",
       "250                      Sushi Itto      Venustiano Carranza 1809 C Polanco   \n",
       "251                      Sushi Itto      Venustiano Carranza 1809 C Polanco   \n",
       "252                       Paniroles                                       ?   \n",
       "\n",
       "                city            state country fax  ...   smoking_area  \\\n",
       "0             s.l.p.           s.l.p.  mexico   ?  ...           none   \n",
       "1    San Luis Potosi  San Luis Potosi  Mexico   ?  ...    only at bar   \n",
       "2    San Luis Potosi  San Luis Potosi  Mexico   ?  ...    only at bar   \n",
       "3    San Luis Potosi  San Luis Potosi  Mexico   ?  ...    only at bar   \n",
       "4          victoria        tamaulipas       ?   ?  ...           none   \n",
       "..               ...              ...     ...  ..  ...            ...   \n",
       "248  San Luis Potosi              SLP  Mexico   ?  ...           none   \n",
       "249  San Luis Potosi              SLP  Mexico   ?  ...           none   \n",
       "250  San Luis Potosi              SLP  Mexico   ?  ...           none   \n",
       "251  San Luis Potosi              SLP  Mexico   ?  ...           none   \n",
       "252                ?                ?       ?   ?  ...  not permitted   \n",
       "\n",
       "    dress_code     accessibility   price                url Rambience  \\\n",
       "0     informal        completely     low                  ?  familiar   \n",
       "1     informal         partially  medium                  ?  familiar   \n",
       "2     informal         partially  medium                  ?  familiar   \n",
       "3     informal         partially  medium                  ?  familiar   \n",
       "4     informal        completely     low                  ?  familiar   \n",
       "..         ...               ...     ...                ...       ...   \n",
       "248   informal  no_accessibility  medium  sushi-itto.com.mx  familiar   \n",
       "249   informal  no_accessibility  medium  sushi-itto.com.mx  familiar   \n",
       "250   informal  no_accessibility  medium  sushi-itto.com.mx  familiar   \n",
       "251   informal  no_accessibility  medium  sushi-itto.com.mx  familiar   \n",
       "252   informal  no_accessibility  medium                  ?     quiet   \n",
       "\n",
       "    franchise    area other_services             Rpayment  \n",
       "0           f    open           none                 cash  \n",
       "1           f    open           none                 cash  \n",
       "2           f    open           none                 VISA  \n",
       "3           f    open           none  MasterCard-Eurocard  \n",
       "4           t  closed           none                 cash  \n",
       "..        ...     ...            ...                  ...  \n",
       "248         f  closed           none                 cash  \n",
       "249         f  closed           none                 VISA  \n",
       "250         f  closed           none  MasterCard-Eurocard  \n",
       "251         f  closed           none     American_Express  \n",
       "252         f  closed       Internet                 cash  \n",
       "\n",
       "[253 rows x 22 columns]"
      ]
     },
     "execution_count": 6,
     "metadata": {},
     "output_type": "execute_result"
    }
   ],
   "source": [
    "placePayment = pd.merge(geoplace,chefaccept,on=\"placeID\")\n",
    "placePayment"
   ]
  },
  {
   "cell_type": "code",
   "execution_count": 7,
   "metadata": {},
   "outputs": [],
   "source": [
    "#Pcach = placePayment.loc[placePayment.Rpayment == \"cash\"].placeID\n",
    "#Pcach.count()"
   ]
  },
  {
   "cell_type": "code",
   "execution_count": 8,
   "metadata": {},
   "outputs": [],
   "source": [
    "#Pcach = placePayment.loc[placePayment.Rpayment != \"cash\"].placeID\n",
    "#Pcach.count()"
   ]
  },
  {
   "cell_type": "code",
   "execution_count": 9,
   "metadata": {},
   "outputs": [],
   "source": [
    "#placePayment.groupby(\"placeID\").count()"
   ]
  },
  {
   "cell_type": "code",
   "execution_count": 10,
   "metadata": {},
   "outputs": [],
   "source": [
    "#placeRating = pd.merge(rating,placePayment,on=\"placeID\")\n",
    "#placeRating.loc[placeRating.Rpayment == \"cash\"]"
   ]
  },
  {
   "cell_type": "code",
   "execution_count": 11,
   "metadata": {},
   "outputs": [],
   "source": [
    "#placeRating[\"payment\"] = \"\""
   ]
  },
  {
   "cell_type": "code",
   "execution_count": 12,
   "metadata": {},
   "outputs": [],
   "source": [
    "#placeRating[\"payment\"].loc[placeRating.Rpayment != \"cash\"] = \"nonCash\""
   ]
  },
  {
   "cell_type": "code",
   "execution_count": 13,
   "metadata": {
    "scrolled": true
   },
   "outputs": [],
   "source": [
    "#placeRating[\"payment\"].loc[placeRating.Rpayment == \"cash\"] = \"Cash\"\n",
    "#placeRating"
   ]
  },
  {
   "cell_type": "code",
   "execution_count": 14,
   "metadata": {},
   "outputs": [],
   "source": [
    "#placeRating.to_csv(\"ratingPlaceCash.csv\")"
   ]
  },
  {
   "cell_type": "code",
   "execution_count": 15,
   "metadata": {},
   "outputs": [],
   "source": [
    "#highR = pd.merge(rating,hp,on=\"placeID\")\n",
    "#highR"
   ]
  },
  {
   "cell_type": "code",
   "execution_count": 16,
   "metadata": {},
   "outputs": [],
   "source": [
    "mp = geoplace.loc[geoplace.price == \"high\"]"
   ]
  },
  {
   "cell_type": "markdown",
   "metadata": {},
   "source": [
    "## ร้านอาหารราคาแพง High"
   ]
  },
  {
   "cell_type": "markdown",
   "metadata": {},
   "source": [
    "- จำนวนร้าน"
   ]
  },
  {
   "cell_type": "code",
   "execution_count": 53,
   "metadata": {},
   "outputs": [
    {
     "data": {
      "text/plain": [
       "59"
      ]
     },
     "execution_count": 53,
     "metadata": {},
     "output_type": "execute_result"
    }
   ],
   "source": [
    "hWithP = pd.merge(chefaccept,mp,on=\"placeID\")\n",
    "nonCPlace = hWithP.loc[hWithP.placeID.isin(nonCash)]\n",
    "CPlace = hWithP.groupby(\"placeID\").count()\n",
    "CPlace = CPlace.loc[CPlace.Rpayment >= 1].index\n",
    "len(CPlace)"
   ]
  },
  {
   "cell_type": "code",
   "execution_count": 18,
   "metadata": {},
   "outputs": [
    {
     "data": {
      "text/plain": [
       "215"
      ]
     },
     "execution_count": 18,
     "metadata": {},
     "output_type": "execute_result"
    }
   ],
   "source": [
    "sumRatingnonCash = rating.loc[rating.placeID.isin(CPlace)].rating.value_counts().sum()\n",
    "sumRatingnonCash"
   ]
  },
  {
   "cell_type": "markdown",
   "metadata": {},
   "source": [
    "% การให้คะแนน ทั้วไปของร้านอาหารที่รับทั้งเงินสดและการจ่ายเงินทางอื่น"
   ]
  },
  {
   "cell_type": "code",
   "execution_count": 19,
   "metadata": {},
   "outputs": [
    {
     "data": {
      "text/plain": [
       "2    45.581395\n",
       "1    31.162791\n",
       "0    23.255814\n",
       "Name: rating, dtype: float64"
      ]
     },
     "execution_count": 19,
     "metadata": {},
     "output_type": "execute_result"
    }
   ],
   "source": [
    "rating.loc[rating.placeID.isin(CPlace)].rating.value_counts() * 100 / sumRatingnonCash"
   ]
  },
  {
   "cell_type": "code",
   "execution_count": 20,
   "metadata": {},
   "outputs": [
    {
     "data": {
      "text/plain": [
       "215"
      ]
     },
     "execution_count": 20,
     "metadata": {},
     "output_type": "execute_result"
    }
   ],
   "source": [
    "sumServiceRatingnonCash = rating.loc[rating.placeID.isin(CPlace)].service_rating.value_counts().sum()\n",
    "sumServiceRatingnonCash"
   ]
  },
  {
   "cell_type": "markdown",
   "metadata": {},
   "source": [
    "% การให้คะแนนการให้บริการ ทั้วไปของร้านอาหาร"
   ]
  },
  {
   "cell_type": "code",
   "execution_count": 21,
   "metadata": {},
   "outputs": [
    {
     "data": {
      "text/plain": [
       "2    40.465116\n",
       "1    30.697674\n",
       "0    28.837209\n",
       "Name: service_rating, dtype: float64"
      ]
     },
     "execution_count": 21,
     "metadata": {},
     "output_type": "execute_result"
    }
   ],
   "source": [
    "rating.loc[rating.placeID.isin(CPlace)].service_rating.value_counts() * 100 / sumServiceRatingnonCash"
   ]
  },
  {
   "cell_type": "markdown",
   "metadata": {},
   "source": [
    "## ร้านราคาปานกลาง medium"
   ]
  },
  {
   "cell_type": "code",
   "execution_count": 22,
   "metadata": {},
   "outputs": [
    {
     "data": {
      "text/html": [
       "<div>\n",
       "<style scoped>\n",
       "    .dataframe tbody tr th:only-of-type {\n",
       "        vertical-align: middle;\n",
       "    }\n",
       "\n",
       "    .dataframe tbody tr th {\n",
       "        vertical-align: top;\n",
       "    }\n",
       "\n",
       "    .dataframe thead th {\n",
       "        text-align: right;\n",
       "    }\n",
       "</style>\n",
       "<table border=\"1\" class=\"dataframe\">\n",
       "  <thead>\n",
       "    <tr style=\"text-align: right;\">\n",
       "      <th></th>\n",
       "      <th>placeID</th>\n",
       "      <th>Rpayment</th>\n",
       "      <th>latitude</th>\n",
       "      <th>longitude</th>\n",
       "      <th>the_geom_meter</th>\n",
       "      <th>name</th>\n",
       "      <th>address</th>\n",
       "      <th>city</th>\n",
       "      <th>state</th>\n",
       "      <th>country</th>\n",
       "      <th>...</th>\n",
       "      <th>price</th>\n",
       "      <th>url</th>\n",
       "      <th>Rambience</th>\n",
       "      <th>franchise</th>\n",
       "      <th>area</th>\n",
       "      <th>other_services</th>\n",
       "      <th>userID</th>\n",
       "      <th>rating</th>\n",
       "      <th>food_rating</th>\n",
       "      <th>service_rating</th>\n",
       "    </tr>\n",
       "  </thead>\n",
       "  <tbody>\n",
       "    <tr>\n",
       "      <th>0</th>\n",
       "      <td>135109</td>\n",
       "      <td>cash</td>\n",
       "      <td>18.921785</td>\n",
       "      <td>-99.235350</td>\n",
       "      <td>0101000020957F0000A6BF695F136F5AC1DADF87B20556...</td>\n",
       "      <td>Paniroles</td>\n",
       "      <td>?</td>\n",
       "      <td>?</td>\n",
       "      <td>?</td>\n",
       "      <td>?</td>\n",
       "      <td>...</td>\n",
       "      <td>medium</td>\n",
       "      <td>?</td>\n",
       "      <td>quiet</td>\n",
       "      <td>f</td>\n",
       "      <td>closed</td>\n",
       "      <td>Internet</td>\n",
       "      <td>U1030</td>\n",
       "      <td>0</td>\n",
       "      <td>0</td>\n",
       "      <td>0</td>\n",
       "    </tr>\n",
       "    <tr>\n",
       "      <th>1</th>\n",
       "      <td>135109</td>\n",
       "      <td>cash</td>\n",
       "      <td>18.921785</td>\n",
       "      <td>-99.235350</td>\n",
       "      <td>0101000020957F0000A6BF695F136F5AC1DADF87B20556...</td>\n",
       "      <td>Paniroles</td>\n",
       "      <td>?</td>\n",
       "      <td>?</td>\n",
       "      <td>?</td>\n",
       "      <td>?</td>\n",
       "      <td>...</td>\n",
       "      <td>medium</td>\n",
       "      <td>?</td>\n",
       "      <td>quiet</td>\n",
       "      <td>f</td>\n",
       "      <td>closed</td>\n",
       "      <td>Internet</td>\n",
       "      <td>U1020</td>\n",
       "      <td>2</td>\n",
       "      <td>2</td>\n",
       "      <td>1</td>\n",
       "    </tr>\n",
       "    <tr>\n",
       "      <th>2</th>\n",
       "      <td>135109</td>\n",
       "      <td>cash</td>\n",
       "      <td>18.921785</td>\n",
       "      <td>-99.235350</td>\n",
       "      <td>0101000020957F0000A6BF695F136F5AC1DADF87B20556...</td>\n",
       "      <td>Paniroles</td>\n",
       "      <td>?</td>\n",
       "      <td>?</td>\n",
       "      <td>?</td>\n",
       "      <td>?</td>\n",
       "      <td>...</td>\n",
       "      <td>medium</td>\n",
       "      <td>?</td>\n",
       "      <td>quiet</td>\n",
       "      <td>f</td>\n",
       "      <td>closed</td>\n",
       "      <td>Internet</td>\n",
       "      <td>U1051</td>\n",
       "      <td>1</td>\n",
       "      <td>1</td>\n",
       "      <td>1</td>\n",
       "    </tr>\n",
       "    <tr>\n",
       "      <th>3</th>\n",
       "      <td>135109</td>\n",
       "      <td>cash</td>\n",
       "      <td>18.921785</td>\n",
       "      <td>-99.235350</td>\n",
       "      <td>0101000020957F0000A6BF695F136F5AC1DADF87B20556...</td>\n",
       "      <td>Paniroles</td>\n",
       "      <td>?</td>\n",
       "      <td>?</td>\n",
       "      <td>?</td>\n",
       "      <td>?</td>\n",
       "      <td>...</td>\n",
       "      <td>medium</td>\n",
       "      <td>?</td>\n",
       "      <td>quiet</td>\n",
       "      <td>f</td>\n",
       "      <td>closed</td>\n",
       "      <td>Internet</td>\n",
       "      <td>U1041</td>\n",
       "      <td>1</td>\n",
       "      <td>2</td>\n",
       "      <td>1</td>\n",
       "    </tr>\n",
       "    <tr>\n",
       "      <th>4</th>\n",
       "      <td>135106</td>\n",
       "      <td>cash</td>\n",
       "      <td>22.149709</td>\n",
       "      <td>-100.976093</td>\n",
       "      <td>0101000020957F0000649D6F21634858C119AE9BF528A3...</td>\n",
       "      <td>El Rinc�n de San Francisco</td>\n",
       "      <td>Universidad 169</td>\n",
       "      <td>San Luis Potosi</td>\n",
       "      <td>San Luis Potosi</td>\n",
       "      <td>Mexico</td>\n",
       "      <td>...</td>\n",
       "      <td>medium</td>\n",
       "      <td>?</td>\n",
       "      <td>familiar</td>\n",
       "      <td>f</td>\n",
       "      <td>open</td>\n",
       "      <td>none</td>\n",
       "      <td>U1055</td>\n",
       "      <td>2</td>\n",
       "      <td>2</td>\n",
       "      <td>2</td>\n",
       "    </tr>\n",
       "    <tr>\n",
       "      <th>...</th>\n",
       "      <td>...</td>\n",
       "      <td>...</td>\n",
       "      <td>...</td>\n",
       "      <td>...</td>\n",
       "      <td>...</td>\n",
       "      <td>...</td>\n",
       "      <td>...</td>\n",
       "      <td>...</td>\n",
       "      <td>...</td>\n",
       "      <td>...</td>\n",
       "      <td>...</td>\n",
       "      <td>...</td>\n",
       "      <td>...</td>\n",
       "      <td>...</td>\n",
       "      <td>...</td>\n",
       "      <td>...</td>\n",
       "      <td>...</td>\n",
       "      <td>...</td>\n",
       "      <td>...</td>\n",
       "      <td>...</td>\n",
       "      <td>...</td>\n",
       "    </tr>\n",
       "    <tr>\n",
       "      <th>1193</th>\n",
       "      <td>132584</td>\n",
       "      <td>cash</td>\n",
       "      <td>23.752365</td>\n",
       "      <td>-99.165288</td>\n",
       "      <td>0101000020957F000048C65BA7EF8157C177F2344D664E...</td>\n",
       "      <td>Gorditas Dona Tota</td>\n",
       "      <td>?</td>\n",
       "      <td>?</td>\n",
       "      <td>?</td>\n",
       "      <td>?</td>\n",
       "      <td>...</td>\n",
       "      <td>medium</td>\n",
       "      <td>?</td>\n",
       "      <td>familiar</td>\n",
       "      <td>t</td>\n",
       "      <td>closed</td>\n",
       "      <td>none</td>\n",
       "      <td>U1103</td>\n",
       "      <td>1</td>\n",
       "      <td>2</td>\n",
       "      <td>1</td>\n",
       "    </tr>\n",
       "    <tr>\n",
       "      <th>1194</th>\n",
       "      <td>132584</td>\n",
       "      <td>cash</td>\n",
       "      <td>23.752365</td>\n",
       "      <td>-99.165288</td>\n",
       "      <td>0101000020957F000048C65BA7EF8157C177F2344D664E...</td>\n",
       "      <td>Gorditas Dona Tota</td>\n",
       "      <td>?</td>\n",
       "      <td>?</td>\n",
       "      <td>?</td>\n",
       "      <td>?</td>\n",
       "      <td>...</td>\n",
       "      <td>medium</td>\n",
       "      <td>?</td>\n",
       "      <td>familiar</td>\n",
       "      <td>t</td>\n",
       "      <td>closed</td>\n",
       "      <td>none</td>\n",
       "      <td>U1107</td>\n",
       "      <td>2</td>\n",
       "      <td>2</td>\n",
       "      <td>2</td>\n",
       "    </tr>\n",
       "    <tr>\n",
       "      <th>1195</th>\n",
       "      <td>132584</td>\n",
       "      <td>cash</td>\n",
       "      <td>23.752365</td>\n",
       "      <td>-99.165288</td>\n",
       "      <td>0101000020957F000048C65BA7EF8157C177F2344D664E...</td>\n",
       "      <td>Gorditas Dona Tota</td>\n",
       "      <td>?</td>\n",
       "      <td>?</td>\n",
       "      <td>?</td>\n",
       "      <td>?</td>\n",
       "      <td>...</td>\n",
       "      <td>medium</td>\n",
       "      <td>?</td>\n",
       "      <td>familiar</td>\n",
       "      <td>t</td>\n",
       "      <td>closed</td>\n",
       "      <td>none</td>\n",
       "      <td>U1123</td>\n",
       "      <td>1</td>\n",
       "      <td>2</td>\n",
       "      <td>0</td>\n",
       "    </tr>\n",
       "    <tr>\n",
       "      <th>1196</th>\n",
       "      <td>132584</td>\n",
       "      <td>cash</td>\n",
       "      <td>23.752365</td>\n",
       "      <td>-99.165288</td>\n",
       "      <td>0101000020957F000048C65BA7EF8157C177F2344D664E...</td>\n",
       "      <td>Gorditas Dona Tota</td>\n",
       "      <td>?</td>\n",
       "      <td>?</td>\n",
       "      <td>?</td>\n",
       "      <td>?</td>\n",
       "      <td>...</td>\n",
       "      <td>medium</td>\n",
       "      <td>?</td>\n",
       "      <td>familiar</td>\n",
       "      <td>t</td>\n",
       "      <td>closed</td>\n",
       "      <td>none</td>\n",
       "      <td>U1063</td>\n",
       "      <td>2</td>\n",
       "      <td>1</td>\n",
       "      <td>1</td>\n",
       "    </tr>\n",
       "    <tr>\n",
       "      <th>1197</th>\n",
       "      <td>132584</td>\n",
       "      <td>cash</td>\n",
       "      <td>23.752365</td>\n",
       "      <td>-99.165288</td>\n",
       "      <td>0101000020957F000048C65BA7EF8157C177F2344D664E...</td>\n",
       "      <td>Gorditas Dona Tota</td>\n",
       "      <td>?</td>\n",
       "      <td>?</td>\n",
       "      <td>?</td>\n",
       "      <td>?</td>\n",
       "      <td>...</td>\n",
       "      <td>medium</td>\n",
       "      <td>?</td>\n",
       "      <td>familiar</td>\n",
       "      <td>t</td>\n",
       "      <td>closed</td>\n",
       "      <td>none</td>\n",
       "      <td>U1050</td>\n",
       "      <td>0</td>\n",
       "      <td>0</td>\n",
       "      <td>0</td>\n",
       "    </tr>\n",
       "  </tbody>\n",
       "</table>\n",
       "<p>1198 rows × 26 columns</p>\n",
       "</div>"
      ],
      "text/plain": [
       "      placeID Rpayment   latitude   longitude  \\\n",
       "0      135109     cash  18.921785  -99.235350   \n",
       "1      135109     cash  18.921785  -99.235350   \n",
       "2      135109     cash  18.921785  -99.235350   \n",
       "3      135109     cash  18.921785  -99.235350   \n",
       "4      135106     cash  22.149709 -100.976093   \n",
       "...       ...      ...        ...         ...   \n",
       "1193   132584     cash  23.752365  -99.165288   \n",
       "1194   132584     cash  23.752365  -99.165288   \n",
       "1195   132584     cash  23.752365  -99.165288   \n",
       "1196   132584     cash  23.752365  -99.165288   \n",
       "1197   132584     cash  23.752365  -99.165288   \n",
       "\n",
       "                                         the_geom_meter  \\\n",
       "0     0101000020957F0000A6BF695F136F5AC1DADF87B20556...   \n",
       "1     0101000020957F0000A6BF695F136F5AC1DADF87B20556...   \n",
       "2     0101000020957F0000A6BF695F136F5AC1DADF87B20556...   \n",
       "3     0101000020957F0000A6BF695F136F5AC1DADF87B20556...   \n",
       "4     0101000020957F0000649D6F21634858C119AE9BF528A3...   \n",
       "...                                                 ...   \n",
       "1193  0101000020957F000048C65BA7EF8157C177F2344D664E...   \n",
       "1194  0101000020957F000048C65BA7EF8157C177F2344D664E...   \n",
       "1195  0101000020957F000048C65BA7EF8157C177F2344D664E...   \n",
       "1196  0101000020957F000048C65BA7EF8157C177F2344D664E...   \n",
       "1197  0101000020957F000048C65BA7EF8157C177F2344D664E...   \n",
       "\n",
       "                            name          address             city  \\\n",
       "0                      Paniroles                ?                ?   \n",
       "1                      Paniroles                ?                ?   \n",
       "2                      Paniroles                ?                ?   \n",
       "3                      Paniroles                ?                ?   \n",
       "4     El Rinc�n de San Francisco  Universidad 169  San Luis Potosi   \n",
       "...                          ...              ...              ...   \n",
       "1193          Gorditas Dona Tota                ?                ?   \n",
       "1194          Gorditas Dona Tota                ?                ?   \n",
       "1195          Gorditas Dona Tota                ?                ?   \n",
       "1196          Gorditas Dona Tota                ?                ?   \n",
       "1197          Gorditas Dona Tota                ?                ?   \n",
       "\n",
       "                state country  ...   price url Rambience franchise    area  \\\n",
       "0                   ?       ?  ...  medium   ?     quiet         f  closed   \n",
       "1                   ?       ?  ...  medium   ?     quiet         f  closed   \n",
       "2                   ?       ?  ...  medium   ?     quiet         f  closed   \n",
       "3                   ?       ?  ...  medium   ?     quiet         f  closed   \n",
       "4     San Luis Potosi  Mexico  ...  medium   ?  familiar         f    open   \n",
       "...               ...     ...  ...     ...  ..       ...       ...     ...   \n",
       "1193                ?       ?  ...  medium   ?  familiar         t  closed   \n",
       "1194                ?       ?  ...  medium   ?  familiar         t  closed   \n",
       "1195                ?       ?  ...  medium   ?  familiar         t  closed   \n",
       "1196                ?       ?  ...  medium   ?  familiar         t  closed   \n",
       "1197                ?       ?  ...  medium   ?  familiar         t  closed   \n",
       "\n",
       "     other_services userID rating food_rating service_rating  \n",
       "0          Internet  U1030      0           0              0  \n",
       "1          Internet  U1020      2           2              1  \n",
       "2          Internet  U1051      1           1              1  \n",
       "3          Internet  U1041      1           2              1  \n",
       "4              none  U1055      2           2              2  \n",
       "...             ...    ...    ...         ...            ...  \n",
       "1193           none  U1103      1           2              1  \n",
       "1194           none  U1107      2           2              2  \n",
       "1195           none  U1123      1           2              0  \n",
       "1196           none  U1063      2           1              1  \n",
       "1197           none  U1050      0           0              0  \n",
       "\n",
       "[1198 rows x 26 columns]"
      ]
     },
     "execution_count": 22,
     "metadata": {},
     "output_type": "execute_result"
    }
   ],
   "source": [
    "mp = geoplace.loc[geoplace.price == \"medium\"]\n",
    "CMR = pd.merge(pd.merge(chefaccept,mp,on=\"placeID\"),rating,on=\"placeID\")\n",
    "CMR"
   ]
  },
  {
   "cell_type": "markdown",
   "metadata": {},
   "source": [
    "\n"
   ]
  },
  {
   "cell_type": "code",
   "execution_count": 23,
   "metadata": {},
   "outputs": [],
   "source": [
    "mWithP = pd.merge(chefaccept,mp,on=\"placeID\")\n",
    "#nonCash = mWithP.loc[mWithP.Rpayment != \"cash\"].placeID\n",
    "#len(nonCash.unique())"
   ]
  },
  {
   "cell_type": "markdown",
   "metadata": {},
   "source": [
    "- รับแค่เงินสด"
   ]
  },
  {
   "cell_type": "code",
   "execution_count": 24,
   "metadata": {},
   "outputs": [
    {
     "data": {
      "text/plain": [
       "31"
      ]
     },
     "execution_count": 24,
     "metadata": {},
     "output_type": "execute_result"
    }
   ],
   "source": [
    "nonCPlace = mWithP.loc[mWithP.placeID.isin(nonCash)]\n",
    "CPlace = mWithP.groupby(\"placeID\").count()\n",
    "CPlace = CPlace.loc[CPlace.Rpayment <= 1].index\n",
    "len(CPlace)"
   ]
  },
  {
   "cell_type": "markdown",
   "metadata": {},
   "source": [
    "- รับการชำะเงินหลายรูปแบบ"
   ]
  },
  {
   "cell_type": "code",
   "execution_count": 54,
   "metadata": {},
   "outputs": [
    {
     "data": {
      "text/plain": [
       "28"
      ]
     },
     "execution_count": 54,
     "metadata": {},
     "output_type": "execute_result"
    }
   ],
   "source": [
    "nonCPlace = mWithP.groupby(\"placeID\").count()\n",
    "nonCPlace = nonCPlace.loc[nonCPlace.Rpayment > 1].index\n",
    "len(nonCPlace)"
   ]
  },
  {
   "cell_type": "code",
   "execution_count": 26,
   "metadata": {},
   "outputs": [
    {
     "data": {
      "text/plain": [
       "59"
      ]
     },
     "execution_count": 26,
     "metadata": {},
     "output_type": "execute_result"
    }
   ],
   "source": [
    "total = len(CPlace) + len(nonCPlace)\n",
    "total"
   ]
  },
  {
   "cell_type": "markdown",
   "metadata": {},
   "source": [
    "% ร้านที่รับเฉพาะเงินสด"
   ]
  },
  {
   "cell_type": "code",
   "execution_count": 27,
   "metadata": {},
   "outputs": [
    {
     "data": {
      "text/plain": [
       "52.54237288135593"
      ]
     },
     "execution_count": 27,
     "metadata": {},
     "output_type": "execute_result"
    }
   ],
   "source": [
    "len(CPlace) * 100 / total"
   ]
  },
  {
   "cell_type": "markdown",
   "metadata": {},
   "source": [
    "% ร้านที่รับทั้งเงินสดและและการจ่ายเงินผ่านทางช่องทางอื่น"
   ]
  },
  {
   "cell_type": "code",
   "execution_count": 28,
   "metadata": {},
   "outputs": [
    {
     "data": {
      "text/plain": [
       "47.45762711864407"
      ]
     },
     "execution_count": 28,
     "metadata": {},
     "output_type": "execute_result"
    }
   ],
   "source": [
    "len(nonCPlace) * 100 / total"
   ]
  },
  {
   "cell_type": "code",
   "execution_count": 29,
   "metadata": {},
   "outputs": [
    {
     "data": {
      "text/plain": [
       "270"
      ]
     },
     "execution_count": 29,
     "metadata": {},
     "output_type": "execute_result"
    }
   ],
   "source": [
    "sumRatingnonCash = rating.loc[rating.placeID.isin(nonCPlace)].rating.value_counts().sum()\n",
    "sumRatingnonCash"
   ]
  },
  {
   "cell_type": "markdown",
   "metadata": {},
   "source": [
    "% การให้คะแนน ทั้วไปของร้านอาหารที่รับทั้งเงินสดและการจ่ายเงินทางอื่น"
   ]
  },
  {
   "cell_type": "code",
   "execution_count": 30,
   "metadata": {},
   "outputs": [
    {
     "data": {
      "text/plain": [
       "2    43.703704\n",
       "1    37.037037\n",
       "0    19.259259\n",
       "Name: rating, dtype: float64"
      ]
     },
     "execution_count": 30,
     "metadata": {},
     "output_type": "execute_result"
    }
   ],
   "source": [
    "rating.loc[rating.placeID.isin(nonCPlace)].rating.value_counts() * 100 / sumRatingnonCash"
   ]
  },
  {
   "cell_type": "code",
   "execution_count": 31,
   "metadata": {},
   "outputs": [
    {
     "data": {
      "text/plain": [
       "270"
      ]
     },
     "execution_count": 31,
     "metadata": {},
     "output_type": "execute_result"
    }
   ],
   "source": [
    "sumServiceRatingnonCash = rating.loc[rating.placeID.isin(nonCPlace)].service_rating.value_counts().sum()\n",
    "sumServiceRatingnonCash"
   ]
  },
  {
   "cell_type": "markdown",
   "metadata": {},
   "source": [
    "% การให้คะแนนการให้บริการ ทั้วไปของร้านอาหารที่รับทั้งเงินสดและการจ่ายเงินทางอื่น"
   ]
  },
  {
   "cell_type": "code",
   "execution_count": 32,
   "metadata": {},
   "outputs": [
    {
     "data": {
      "text/plain": [
       "2    40.000000\n",
       "1    37.777778\n",
       "0    22.222222\n",
       "Name: service_rating, dtype: float64"
      ]
     },
     "execution_count": 32,
     "metadata": {},
     "output_type": "execute_result"
    }
   ],
   "source": [
    "rating.loc[rating.placeID.isin(nonCPlace)].service_rating.value_counts() * 100 / sumServiceRatingnonCash"
   ]
  },
  {
   "cell_type": "code",
   "execution_count": 33,
   "metadata": {},
   "outputs": [],
   "source": [
    "#rating.loc[rating.placeID.isin(CPlace)].drop_duplicates"
   ]
  },
  {
   "cell_type": "code",
   "execution_count": 34,
   "metadata": {},
   "outputs": [
    {
     "data": {
      "text/plain": [
       "302"
      ]
     },
     "execution_count": 34,
     "metadata": {},
     "output_type": "execute_result"
    }
   ],
   "source": [
    "sumRatingCash = rating.loc[rating.placeID.isin(CPlace)].rating.value_counts().sum()\n",
    "sumRatingCash"
   ]
  },
  {
   "cell_type": "markdown",
   "metadata": {},
   "source": [
    "% การให้คะแนน ทั้วไปของร้านอาหารที่รับเฉพาะเงินสด"
   ]
  },
  {
   "cell_type": "code",
   "execution_count": 35,
   "metadata": {},
   "outputs": [
    {
     "data": {
      "text/plain": [
       "2    46.026490\n",
       "1    33.443709\n",
       "0    20.529801\n",
       "Name: rating, dtype: float64"
      ]
     },
     "execution_count": 35,
     "metadata": {},
     "output_type": "execute_result"
    }
   ],
   "source": [
    "rating.loc[rating.placeID.isin(CPlace)].rating.value_counts() * 100 / sumRatingCash"
   ]
  },
  {
   "cell_type": "code",
   "execution_count": 36,
   "metadata": {},
   "outputs": [
    {
     "data": {
      "text/plain": [
       "302"
      ]
     },
     "execution_count": 36,
     "metadata": {},
     "output_type": "execute_result"
    }
   ],
   "source": [
    "sumServiceRatingCash = rating.loc[rating.placeID.isin(CPlace)].service_rating.value_counts().sum()\n",
    "sumServiceRatingCash"
   ]
  },
  {
   "cell_type": "markdown",
   "metadata": {},
   "source": [
    "% การให้คะแนนการให้บริการ ทั้วไปของร้านอาหารที่รับเฉพาะเงินสด"
   ]
  },
  {
   "cell_type": "code",
   "execution_count": 37,
   "metadata": {},
   "outputs": [
    {
     "data": {
      "text/plain": [
       "2    39.072848\n",
       "1    36.423841\n",
       "0    24.503311\n",
       "Name: service_rating, dtype: float64"
      ]
     },
     "execution_count": 37,
     "metadata": {},
     "output_type": "execute_result"
    }
   ],
   "source": [
    "rating.loc[rating.placeID.isin(CPlace)].service_rating.value_counts() * 100 / sumServiceRatingCash"
   ]
  },
  {
   "cell_type": "markdown",
   "metadata": {},
   "source": [
    "## ร้านราคา Low"
   ]
  },
  {
   "cell_type": "code",
   "execution_count": 38,
   "metadata": {},
   "outputs": [
    {
     "data": {
      "text/html": [
       "<div>\n",
       "<style scoped>\n",
       "    .dataframe tbody tr th:only-of-type {\n",
       "        vertical-align: middle;\n",
       "    }\n",
       "\n",
       "    .dataframe tbody tr th {\n",
       "        vertical-align: top;\n",
       "    }\n",
       "\n",
       "    .dataframe thead th {\n",
       "        text-align: right;\n",
       "    }\n",
       "</style>\n",
       "<table border=\"1\" class=\"dataframe\">\n",
       "  <thead>\n",
       "    <tr style=\"text-align: right;\">\n",
       "      <th></th>\n",
       "      <th>placeID</th>\n",
       "      <th>Rpayment</th>\n",
       "      <th>latitude</th>\n",
       "      <th>longitude</th>\n",
       "      <th>the_geom_meter</th>\n",
       "      <th>name</th>\n",
       "      <th>address</th>\n",
       "      <th>city</th>\n",
       "      <th>state</th>\n",
       "      <th>country</th>\n",
       "      <th>...</th>\n",
       "      <th>price</th>\n",
       "      <th>url</th>\n",
       "      <th>Rambience</th>\n",
       "      <th>franchise</th>\n",
       "      <th>area</th>\n",
       "      <th>other_services</th>\n",
       "      <th>userID</th>\n",
       "      <th>rating</th>\n",
       "      <th>food_rating</th>\n",
       "      <th>service_rating</th>\n",
       "    </tr>\n",
       "  </thead>\n",
       "  <tbody>\n",
       "    <tr>\n",
       "      <th>0</th>\n",
       "      <td>135088</td>\n",
       "      <td>cash</td>\n",
       "      <td>18.876011</td>\n",
       "      <td>-99.219890</td>\n",
       "      <td>0101000020957F0000E14AD4DBC7765AC1F7B33C85B153...</td>\n",
       "      <td>Cafeteria cenidet</td>\n",
       "      <td>Interior Internado Palmira SN</td>\n",
       "      <td>Cuernavaca</td>\n",
       "      <td>Morelos</td>\n",
       "      <td>Mexico</td>\n",
       "      <td>...</td>\n",
       "      <td>low</td>\n",
       "      <td>www.cenidet.edu.mx</td>\n",
       "      <td>quiet</td>\n",
       "      <td>f</td>\n",
       "      <td>closed</td>\n",
       "      <td>none</td>\n",
       "      <td>U1044</td>\n",
       "      <td>2</td>\n",
       "      <td>2</td>\n",
       "      <td>2</td>\n",
       "    </tr>\n",
       "    <tr>\n",
       "      <th>1</th>\n",
       "      <td>135088</td>\n",
       "      <td>cash</td>\n",
       "      <td>18.876011</td>\n",
       "      <td>-99.219890</td>\n",
       "      <td>0101000020957F0000E14AD4DBC7765AC1F7B33C85B153...</td>\n",
       "      <td>Cafeteria cenidet</td>\n",
       "      <td>Interior Internado Palmira SN</td>\n",
       "      <td>Cuernavaca</td>\n",
       "      <td>Morelos</td>\n",
       "      <td>Mexico</td>\n",
       "      <td>...</td>\n",
       "      <td>low</td>\n",
       "      <td>www.cenidet.edu.mx</td>\n",
       "      <td>quiet</td>\n",
       "      <td>f</td>\n",
       "      <td>closed</td>\n",
       "      <td>none</td>\n",
       "      <td>U1030</td>\n",
       "      <td>1</td>\n",
       "      <td>0</td>\n",
       "      <td>1</td>\n",
       "    </tr>\n",
       "    <tr>\n",
       "      <th>2</th>\n",
       "      <td>135088</td>\n",
       "      <td>cash</td>\n",
       "      <td>18.876011</td>\n",
       "      <td>-99.219890</td>\n",
       "      <td>0101000020957F0000E14AD4DBC7765AC1F7B33C85B153...</td>\n",
       "      <td>Cafeteria cenidet</td>\n",
       "      <td>Interior Internado Palmira SN</td>\n",
       "      <td>Cuernavaca</td>\n",
       "      <td>Morelos</td>\n",
       "      <td>Mexico</td>\n",
       "      <td>...</td>\n",
       "      <td>low</td>\n",
       "      <td>www.cenidet.edu.mx</td>\n",
       "      <td>quiet</td>\n",
       "      <td>f</td>\n",
       "      <td>closed</td>\n",
       "      <td>none</td>\n",
       "      <td>U1072</td>\n",
       "      <td>0</td>\n",
       "      <td>1</td>\n",
       "      <td>0</td>\n",
       "    </tr>\n",
       "    <tr>\n",
       "      <th>3</th>\n",
       "      <td>135088</td>\n",
       "      <td>cash</td>\n",
       "      <td>18.876011</td>\n",
       "      <td>-99.219890</td>\n",
       "      <td>0101000020957F0000E14AD4DBC7765AC1F7B33C85B153...</td>\n",
       "      <td>Cafeteria cenidet</td>\n",
       "      <td>Interior Internado Palmira SN</td>\n",
       "      <td>Cuernavaca</td>\n",
       "      <td>Morelos</td>\n",
       "      <td>Mexico</td>\n",
       "      <td>...</td>\n",
       "      <td>low</td>\n",
       "      <td>www.cenidet.edu.mx</td>\n",
       "      <td>quiet</td>\n",
       "      <td>f</td>\n",
       "      <td>closed</td>\n",
       "      <td>none</td>\n",
       "      <td>U1117</td>\n",
       "      <td>1</td>\n",
       "      <td>1</td>\n",
       "      <td>2</td>\n",
       "    </tr>\n",
       "    <tr>\n",
       "      <th>4</th>\n",
       "      <td>135088</td>\n",
       "      <td>cash</td>\n",
       "      <td>18.876011</td>\n",
       "      <td>-99.219890</td>\n",
       "      <td>0101000020957F0000E14AD4DBC7765AC1F7B33C85B153...</td>\n",
       "      <td>Cafeteria cenidet</td>\n",
       "      <td>Interior Internado Palmira SN</td>\n",
       "      <td>Cuernavaca</td>\n",
       "      <td>Morelos</td>\n",
       "      <td>Mexico</td>\n",
       "      <td>...</td>\n",
       "      <td>low</td>\n",
       "      <td>www.cenidet.edu.mx</td>\n",
       "      <td>quiet</td>\n",
       "      <td>f</td>\n",
       "      <td>closed</td>\n",
       "      <td>none</td>\n",
       "      <td>U1020</td>\n",
       "      <td>1</td>\n",
       "      <td>2</td>\n",
       "      <td>0</td>\n",
       "    </tr>\n",
       "    <tr>\n",
       "      <th>...</th>\n",
       "      <td>...</td>\n",
       "      <td>...</td>\n",
       "      <td>...</td>\n",
       "      <td>...</td>\n",
       "      <td>...</td>\n",
       "      <td>...</td>\n",
       "      <td>...</td>\n",
       "      <td>...</td>\n",
       "      <td>...</td>\n",
       "      <td>...</td>\n",
       "      <td>...</td>\n",
       "      <td>...</td>\n",
       "      <td>...</td>\n",
       "      <td>...</td>\n",
       "      <td>...</td>\n",
       "      <td>...</td>\n",
       "      <td>...</td>\n",
       "      <td>...</td>\n",
       "      <td>...</td>\n",
       "      <td>...</td>\n",
       "      <td>...</td>\n",
       "    </tr>\n",
       "    <tr>\n",
       "      <th>337</th>\n",
       "      <td>132572</td>\n",
       "      <td>cash</td>\n",
       "      <td>22.141647</td>\n",
       "      <td>-100.992712</td>\n",
       "      <td>0101000020957F00005D19BF45294958C18FF7F8E260A8...</td>\n",
       "      <td>Cafe Chaires</td>\n",
       "      <td>?</td>\n",
       "      <td>San Luis Potosi</td>\n",
       "      <td>San Luis Potosi</td>\n",
       "      <td>Mexico</td>\n",
       "      <td>...</td>\n",
       "      <td>low</td>\n",
       "      <td>?</td>\n",
       "      <td>familiar</td>\n",
       "      <td>f</td>\n",
       "      <td>closed</td>\n",
       "      <td>none</td>\n",
       "      <td>U1073</td>\n",
       "      <td>0</td>\n",
       "      <td>0</td>\n",
       "      <td>0</td>\n",
       "    </tr>\n",
       "    <tr>\n",
       "      <th>338</th>\n",
       "      <td>132560</td>\n",
       "      <td>cash</td>\n",
       "      <td>23.752304</td>\n",
       "      <td>-99.166913</td>\n",
       "      <td>0101000020957F0000FC60BDA8E88157C1B2C357D6DA4E...</td>\n",
       "      <td>puesto de gorditas</td>\n",
       "      <td>frente al tecnologico</td>\n",
       "      <td>victoria</td>\n",
       "      <td>tamaulipas</td>\n",
       "      <td>mexico</td>\n",
       "      <td>...</td>\n",
       "      <td>low</td>\n",
       "      <td>?</td>\n",
       "      <td>familiar</td>\n",
       "      <td>f</td>\n",
       "      <td>open</td>\n",
       "      <td>none</td>\n",
       "      <td>U1067</td>\n",
       "      <td>1</td>\n",
       "      <td>0</td>\n",
       "      <td>0</td>\n",
       "    </tr>\n",
       "    <tr>\n",
       "      <th>339</th>\n",
       "      <td>132560</td>\n",
       "      <td>cash</td>\n",
       "      <td>23.752304</td>\n",
       "      <td>-99.166913</td>\n",
       "      <td>0101000020957F0000FC60BDA8E88157C1B2C357D6DA4E...</td>\n",
       "      <td>puesto de gorditas</td>\n",
       "      <td>frente al tecnologico</td>\n",
       "      <td>victoria</td>\n",
       "      <td>tamaulipas</td>\n",
       "      <td>mexico</td>\n",
       "      <td>...</td>\n",
       "      <td>low</td>\n",
       "      <td>?</td>\n",
       "      <td>familiar</td>\n",
       "      <td>f</td>\n",
       "      <td>open</td>\n",
       "      <td>none</td>\n",
       "      <td>U1082</td>\n",
       "      <td>0</td>\n",
       "      <td>0</td>\n",
       "      <td>0</td>\n",
       "    </tr>\n",
       "    <tr>\n",
       "      <th>340</th>\n",
       "      <td>132560</td>\n",
       "      <td>cash</td>\n",
       "      <td>23.752304</td>\n",
       "      <td>-99.166913</td>\n",
       "      <td>0101000020957F0000FC60BDA8E88157C1B2C357D6DA4E...</td>\n",
       "      <td>puesto de gorditas</td>\n",
       "      <td>frente al tecnologico</td>\n",
       "      <td>victoria</td>\n",
       "      <td>tamaulipas</td>\n",
       "      <td>mexico</td>\n",
       "      <td>...</td>\n",
       "      <td>low</td>\n",
       "      <td>?</td>\n",
       "      <td>familiar</td>\n",
       "      <td>f</td>\n",
       "      <td>open</td>\n",
       "      <td>none</td>\n",
       "      <td>U1050</td>\n",
       "      <td>0</td>\n",
       "      <td>2</td>\n",
       "      <td>0</td>\n",
       "    </tr>\n",
       "    <tr>\n",
       "      <th>341</th>\n",
       "      <td>132560</td>\n",
       "      <td>cash</td>\n",
       "      <td>23.752304</td>\n",
       "      <td>-99.166913</td>\n",
       "      <td>0101000020957F0000FC60BDA8E88157C1B2C357D6DA4E...</td>\n",
       "      <td>puesto de gorditas</td>\n",
       "      <td>frente al tecnologico</td>\n",
       "      <td>victoria</td>\n",
       "      <td>tamaulipas</td>\n",
       "      <td>mexico</td>\n",
       "      <td>...</td>\n",
       "      <td>low</td>\n",
       "      <td>?</td>\n",
       "      <td>familiar</td>\n",
       "      <td>f</td>\n",
       "      <td>open</td>\n",
       "      <td>none</td>\n",
       "      <td>U1087</td>\n",
       "      <td>1</td>\n",
       "      <td>2</td>\n",
       "      <td>1</td>\n",
       "    </tr>\n",
       "  </tbody>\n",
       "</table>\n",
       "<p>342 rows × 26 columns</p>\n",
       "</div>"
      ],
      "text/plain": [
       "     placeID Rpayment   latitude   longitude  \\\n",
       "0     135088     cash  18.876011  -99.219890   \n",
       "1     135088     cash  18.876011  -99.219890   \n",
       "2     135088     cash  18.876011  -99.219890   \n",
       "3     135088     cash  18.876011  -99.219890   \n",
       "4     135088     cash  18.876011  -99.219890   \n",
       "..       ...      ...        ...         ...   \n",
       "337   132572     cash  22.141647 -100.992712   \n",
       "338   132560     cash  23.752304  -99.166913   \n",
       "339   132560     cash  23.752304  -99.166913   \n",
       "340   132560     cash  23.752304  -99.166913   \n",
       "341   132560     cash  23.752304  -99.166913   \n",
       "\n",
       "                                        the_geom_meter                name  \\\n",
       "0    0101000020957F0000E14AD4DBC7765AC1F7B33C85B153...   Cafeteria cenidet   \n",
       "1    0101000020957F0000E14AD4DBC7765AC1F7B33C85B153...   Cafeteria cenidet   \n",
       "2    0101000020957F0000E14AD4DBC7765AC1F7B33C85B153...   Cafeteria cenidet   \n",
       "3    0101000020957F0000E14AD4DBC7765AC1F7B33C85B153...   Cafeteria cenidet   \n",
       "4    0101000020957F0000E14AD4DBC7765AC1F7B33C85B153...   Cafeteria cenidet   \n",
       "..                                                 ...                 ...   \n",
       "337  0101000020957F00005D19BF45294958C18FF7F8E260A8...        Cafe Chaires   \n",
       "338  0101000020957F0000FC60BDA8E88157C1B2C357D6DA4E...  puesto de gorditas   \n",
       "339  0101000020957F0000FC60BDA8E88157C1B2C357D6DA4E...  puesto de gorditas   \n",
       "340  0101000020957F0000FC60BDA8E88157C1B2C357D6DA4E...  puesto de gorditas   \n",
       "341  0101000020957F0000FC60BDA8E88157C1B2C357D6DA4E...  puesto de gorditas   \n",
       "\n",
       "                           address             city            state country  \\\n",
       "0    Interior Internado Palmira SN       Cuernavaca          Morelos  Mexico   \n",
       "1    Interior Internado Palmira SN       Cuernavaca          Morelos  Mexico   \n",
       "2    Interior Internado Palmira SN       Cuernavaca          Morelos  Mexico   \n",
       "3    Interior Internado Palmira SN       Cuernavaca          Morelos  Mexico   \n",
       "4    Interior Internado Palmira SN       Cuernavaca          Morelos  Mexico   \n",
       "..                             ...              ...              ...     ...   \n",
       "337                              ?  San Luis Potosi  San Luis Potosi  Mexico   \n",
       "338          frente al tecnologico         victoria       tamaulipas  mexico   \n",
       "339          frente al tecnologico         victoria       tamaulipas  mexico   \n",
       "340          frente al tecnologico         victoria       tamaulipas  mexico   \n",
       "341          frente al tecnologico         victoria       tamaulipas  mexico   \n",
       "\n",
       "     ... price                 url Rambience franchise    area other_services  \\\n",
       "0    ...   low  www.cenidet.edu.mx     quiet         f  closed           none   \n",
       "1    ...   low  www.cenidet.edu.mx     quiet         f  closed           none   \n",
       "2    ...   low  www.cenidet.edu.mx     quiet         f  closed           none   \n",
       "3    ...   low  www.cenidet.edu.mx     quiet         f  closed           none   \n",
       "4    ...   low  www.cenidet.edu.mx     quiet         f  closed           none   \n",
       "..   ...   ...                 ...       ...       ...     ...            ...   \n",
       "337  ...   low                   ?  familiar         f  closed           none   \n",
       "338  ...   low                   ?  familiar         f    open           none   \n",
       "339  ...   low                   ?  familiar         f    open           none   \n",
       "340  ...   low                   ?  familiar         f    open           none   \n",
       "341  ...   low                   ?  familiar         f    open           none   \n",
       "\n",
       "    userID rating food_rating service_rating  \n",
       "0    U1044      2           2              2  \n",
       "1    U1030      1           0              1  \n",
       "2    U1072      0           1              0  \n",
       "3    U1117      1           1              2  \n",
       "4    U1020      1           2              0  \n",
       "..     ...    ...         ...            ...  \n",
       "337  U1073      0           0              0  \n",
       "338  U1067      1           0              0  \n",
       "339  U1082      0           0              0  \n",
       "340  U1050      0           2              0  \n",
       "341  U1087      1           2              1  \n",
       "\n",
       "[342 rows x 26 columns]"
      ]
     },
     "execution_count": 38,
     "metadata": {},
     "output_type": "execute_result"
    }
   ],
   "source": [
    "lp = geoplace.loc[geoplace.price == \"low\"]\n",
    "CMR = pd.merge(pd.merge(chefaccept,lp,on=\"placeID\"),rating,on=\"placeID\")\n",
    "CMR"
   ]
  },
  {
   "cell_type": "code",
   "execution_count": 39,
   "metadata": {},
   "outputs": [],
   "source": [
    "lWithP = pd.merge(chefaccept,lp,on=\"placeID\")"
   ]
  },
  {
   "cell_type": "code",
   "execution_count": 40,
   "metadata": {},
   "outputs": [
    {
     "data": {
      "text/plain": [
       "28"
      ]
     },
     "execution_count": 40,
     "metadata": {},
     "output_type": "execute_result"
    }
   ],
   "source": [
    "nonCPlace = lWithP.loc[lWithP.placeID.isin(nonCash)]\n",
    "CPlace = lWithP.groupby(\"placeID\").count()\n",
    "CPlace = CPlace.loc[CPlace.Rpayment <= 1].index\n",
    "len(CPlace)"
   ]
  },
  {
   "cell_type": "code",
   "execution_count": 41,
   "metadata": {},
   "outputs": [
    {
     "data": {
      "text/plain": [
       "4"
      ]
     },
     "execution_count": 41,
     "metadata": {},
     "output_type": "execute_result"
    }
   ],
   "source": [
    "nonCPlace = lWithP.groupby(\"placeID\").count()\n",
    "nonCPlace = nonCPlace.loc[nonCPlace.Rpayment > 1].index\n",
    "len(nonCPlace)"
   ]
  },
  {
   "cell_type": "code",
   "execution_count": 42,
   "metadata": {},
   "outputs": [
    {
     "data": {
      "text/plain": [
       "32"
      ]
     },
     "execution_count": 42,
     "metadata": {},
     "output_type": "execute_result"
    }
   ],
   "source": [
    "total = len(CPlace) + len(nonCPlace)\n",
    "total"
   ]
  },
  {
   "cell_type": "markdown",
   "metadata": {},
   "source": [
    "% ร้านที่รับเฉพาะเงินสด"
   ]
  },
  {
   "cell_type": "code",
   "execution_count": 43,
   "metadata": {},
   "outputs": [
    {
     "data": {
      "text/plain": [
       "87.5"
      ]
     },
     "execution_count": 43,
     "metadata": {},
     "output_type": "execute_result"
    }
   ],
   "source": [
    "len(CPlace) * 100 / total"
   ]
  },
  {
   "cell_type": "markdown",
   "metadata": {},
   "source": [
    "% ร้านที่รับการจ่ายเงินหลายรูปแบบ"
   ]
  },
  {
   "cell_type": "code",
   "execution_count": 44,
   "metadata": {},
   "outputs": [
    {
     "data": {
      "text/plain": [
       "12.5"
      ]
     },
     "execution_count": 44,
     "metadata": {},
     "output_type": "execute_result"
    }
   ],
   "source": [
    "len(nonCPlace) * 100 / total"
   ]
  },
  {
   "cell_type": "code",
   "execution_count": 45,
   "metadata": {},
   "outputs": [
    {
     "data": {
      "text/plain": [
       "19"
      ]
     },
     "execution_count": 45,
     "metadata": {},
     "output_type": "execute_result"
    }
   ],
   "source": [
    "sumRatingnonCash = rating.loc[rating.placeID.isin(nonCPlace)].rating.value_counts().sum()\n",
    "sumRatingnonCash"
   ]
  },
  {
   "cell_type": "markdown",
   "metadata": {},
   "source": [
    "% การให้คะแนน ทั้วไปของร้านอาหารที่รับทั้งเงินสดและการจ่ายเงินทางอื่น"
   ]
  },
  {
   "cell_type": "code",
   "execution_count": 46,
   "metadata": {},
   "outputs": [
    {
     "data": {
      "text/plain": [
       "2    68.421053\n",
       "1    26.315789\n",
       "0     5.263158\n",
       "Name: rating, dtype: float64"
      ]
     },
     "execution_count": 46,
     "metadata": {},
     "output_type": "execute_result"
    }
   ],
   "source": [
    "rating.loc[rating.placeID.isin(nonCPlace)].rating.value_counts() * 100 / sumRatingnonCash"
   ]
  },
  {
   "cell_type": "code",
   "execution_count": 47,
   "metadata": {},
   "outputs": [
    {
     "data": {
      "text/plain": [
       "19"
      ]
     },
     "execution_count": 47,
     "metadata": {},
     "output_type": "execute_result"
    }
   ],
   "source": [
    "sumServiceRatingnonCash = rating.loc[rating.placeID.isin(nonCPlace)].service_rating.value_counts().sum()\n",
    "sumServiceRatingnonCash"
   ]
  },
  {
   "cell_type": "markdown",
   "metadata": {},
   "source": [
    "% การให้คะแนนการให้บริการ ทั้วไปของร้านอาหารที่รับทั้งเงินสดและการจ่ายเงินทางอื่น"
   ]
  },
  {
   "cell_type": "code",
   "execution_count": 48,
   "metadata": {},
   "outputs": [
    {
     "data": {
      "text/plain": [
       "2    57.894737\n",
       "1    26.315789\n",
       "0    15.789474\n",
       "Name: service_rating, dtype: float64"
      ]
     },
     "execution_count": 48,
     "metadata": {},
     "output_type": "execute_result"
    }
   ],
   "source": [
    "rating.loc[rating.placeID.isin(nonCPlace)].service_rating.value_counts() * 100 / sumServiceRatingnonCash"
   ]
  },
  {
   "cell_type": "code",
   "execution_count": 49,
   "metadata": {},
   "outputs": [
    {
     "data": {
      "text/plain": [
       "255"
      ]
     },
     "execution_count": 49,
     "metadata": {},
     "output_type": "execute_result"
    }
   ],
   "source": [
    "sumRatingnonCash = rating.loc[rating.placeID.isin(CPlace)].rating.value_counts().sum()\n",
    "sumRatingnonCash"
   ]
  },
  {
   "cell_type": "markdown",
   "metadata": {},
   "source": [
    "% การให้คะแนน ทั้วไปของร้านอาหารที่รับเฉพาะเงินสด"
   ]
  },
  {
   "cell_type": "code",
   "execution_count": 50,
   "metadata": {},
   "outputs": [
    {
     "data": {
      "text/plain": [
       "1    42.352941\n",
       "2    31.764706\n",
       "0    25.882353\n",
       "Name: rating, dtype: float64"
      ]
     },
     "execution_count": 50,
     "metadata": {},
     "output_type": "execute_result"
    }
   ],
   "source": [
    "rating.loc[rating.placeID.isin(CPlace)].rating.value_counts() * 100 / sumRatingnonCash"
   ]
  },
  {
   "cell_type": "code",
   "execution_count": 51,
   "metadata": {},
   "outputs": [
    {
     "data": {
      "text/plain": [
       "255"
      ]
     },
     "execution_count": 51,
     "metadata": {},
     "output_type": "execute_result"
    }
   ],
   "source": [
    "sumServiceRatingnonCash = rating.loc[rating.placeID.isin(CPlace)].service_rating.value_counts().sum()\n",
    "sumServiceRatingnonCash"
   ]
  },
  {
   "cell_type": "markdown",
   "metadata": {},
   "source": [
    "% การให้คะแนนการให้บริการของร้านอาหารที่รับเฉพาะเงินสด"
   ]
  },
  {
   "cell_type": "code",
   "execution_count": 52,
   "metadata": {},
   "outputs": [
    {
     "data": {
      "text/plain": [
       "1    43.529412\n",
       "0    34.509804\n",
       "2    21.960784\n",
       "Name: service_rating, dtype: float64"
      ]
     },
     "execution_count": 52,
     "metadata": {},
     "output_type": "execute_result"
    }
   ],
   "source": [
    "rating.loc[rating.placeID.isin(CPlace)].service_rating.value_counts() * 100 / sumServiceRatingnonCash"
   ]
  },
  {
   "cell_type": "code",
   "execution_count": null,
   "metadata": {},
   "outputs": [],
   "source": []
  }
 ],
 "metadata": {
  "kernelspec": {
   "display_name": "Python 3",
   "language": "python",
   "name": "python3"
  },
  "language_info": {
   "codemirror_mode": {
    "name": "ipython",
    "version": 3
   },
   "file_extension": ".py",
   "mimetype": "text/x-python",
   "name": "python",
   "nbconvert_exporter": "python",
   "pygments_lexer": "ipython3",
   "version": "3.7.0"
  }
 },
 "nbformat": 4,
 "nbformat_minor": 2
}
